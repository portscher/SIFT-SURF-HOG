{
 "cells": [
  {
   "cell_type": "markdown",
   "metadata": {},
   "source": [
    "# Object Recognition"
   ]
  },
  {
   "cell_type": "code",
   "execution_count": 2,
   "metadata": {},
   "outputs": [],
   "source": [
    "import os.path\n",
    "import time\n",
    "\n",
    "from sklearn.metrics import classification_report\n",
    "from sklearn.svm import LinearSVC\n",
    "from sklearn.cluster import KMeans, MiniBatchKMeans\n",
    "from sklearn.model_selection import train_test_split\n",
    "from sklearn.base import TransformerMixin, BaseEstimator\n",
    "from sklearn.pipeline import Pipeline\n",
    "\n",
    "\n",
    "import cv2\n",
    "import numpy as np\n",
    "import matplotlib.pyplot as plt\n",
    "\n",
    "import feature_extraction\n",
    "import utils"
   ]
  },
  {
   "cell_type": "code",
   "execution_count": null,
   "metadata": {},
   "outputs": [],
   "source": [
    "\n",
    "points = img = train_set[0][0]\n",
    "sift = cv2.SIFT_create()\n",
    "keypoints, descriptors = sift.detectAndCompute(img,None)\n",
    "\n",
    "points = cv2.drawKeypoints(img, keypoints, points, flags=cv2.DRAW_MATCHES_FLAGS_DRAW_RICH_KEYPOINTS)\n",
    "\n",
    "plt.figure()\n",
    "plt.imshow(points) \n",
    "plt.show()  # display it\n",
    "print(str(len(descriptors)) + \"x\" + str(len(descriptors[0])))"
   ]
  },
  {
   "cell_type": "code",
   "execution_count": null,
   "metadata": {},
   "outputs": [],
   "source": [
    "print(descriptors[0])\n",
    "descs = descriptors[0]\n",
    "for descriptor in descriptors[1:]:\n",
    "    descs = np.vstack((descs, descriptor))\n",
    "\n",
    "print(descs.shape)"
   ]
  },
  {
   "cell_type": "markdown",
   "metadata": {},
   "source": [
    "## SIFT"
   ]
  },
  {
   "cell_type": "code",
   "execution_count": 43,
   "metadata": {},
   "outputs": [
    {
     "name": "stdout",
     "output_type": "stream",
     "text": [
      "Loaded 196 images of the classes: cactus, raccoon\n"
     ]
    }
   ],
   "source": [
    "classes = ['cactus', 'raccoon']\n",
    "images = utils.load_images(classes)"
   ]
  },
  {
   "cell_type": "code",
   "execution_count": 44,
   "metadata": {},
   "outputs": [
    {
     "name": "stdout",
     "output_type": "stream",
     "text": [
      "('cactus', array([[141, 151, 157, ..., 100, 120, 132],\n",
      "       [156, 160, 163, ...,  92, 110, 123],\n",
      "       [177, 175, 176, ...,  85, 100, 114],\n",
      "       ...,\n",
      "       [135, 132, 106, ...,  63, 160, 210],\n",
      "       [139, 136, 121, ..., 124, 197, 210],\n",
      "       [145, 140, 135, ..., 191, 193, 189]], dtype=uint8))\n"
     ]
    }
   ],
   "source": [
    "print(images[0])"
   ]
  },
  {
   "cell_type": "code",
   "execution_count": 47,
   "metadata": {},
   "outputs": [
    {
     "name": "stdout",
     "output_type": "stream",
     "text": [
      "196\n"
     ]
    }
   ],
   "source": [
    "descriptors = []\n",
    "sift = cv2.SIFT_create()\n",
    "\n",
    "for classid, img in images:\n",
    "    key, desc = sift.detectAndCompute(img,None)\n",
    "    descriptors.append((classid, desc))\n",
    "\n",
    "print(len(descriptors))"
   ]
  },
  {
   "cell_type": "code",
   "execution_count": 53,
   "metadata": {},
   "outputs": [
    {
     "name": "stdout",
     "output_type": "stream",
     "text": [
      "2019\n"
     ]
    }
   ],
   "source": [
    "print(len(descriptors[1][1]))"
   ]
  },
  {
   "cell_type": "code",
   "execution_count": 48,
   "metadata": {},
   "outputs": [
    {
     "name": "stdout",
     "output_type": "stream",
     "text": [
      "(262805, 128)\n"
     ]
    }
   ],
   "source": [
    "descs = descriptors[0][1]\n",
    "\n",
    "for classid, desc in descriptors[1:]:\n",
    "    descs = np.vstack((descs, desc))\n",
    "\n",
    "print(descs.shape)"
   ]
  },
  {
   "cell_type": "code",
   "execution_count": null,
   "metadata": {},
   "outputs": [],
   "source": [
    "k = len(classes) * 10\n",
    "kmeans = MiniBatchKMeans(n_clusters=k, random_state=0, batch_size=6)\n",
    "kmeans.fit(descs)\n",
    "\n",
    "print(len(kmeans.cluster_centers_))"
   ]
  },
  {
   "cell_type": "code",
   "execution_count": null,
   "metadata": {},
   "outputs": [],
   "source": [
    "histo_all = []\n",
    "nkp = np.size(kp)\n",
    "print(\"nkp\", nkp)\n",
    "\n",
    "for classid, desc in descriptors:\n",
    "    histo = np.zeros(k)\n",
    "    \n",
    "    for d in desc:\n",
    "        idx = kmeans.predict([d])\n",
    "        # instead of increasing each bin by one, add the normalized value\n",
    "        histo[idx] += 1/nkp\n",
    "\n",
    "    histo_all.append(histo)"
   ]
  },
  {
   "cell_type": "code",
   "execution_count": null,
   "metadata": {},
   "outputs": [],
   "source": [
    "# HERE!! do we need 'standardscaler', StandardScaler() ?\n",
    "# or PCA?\n",
    "# how does the histograms look like? print them.."
   ]
  },
  {
   "cell_type": "code",
   "execution_count": null,
   "metadata": {},
   "outputs": [],
   "source": [
    "nbins = len(histo_all[i])\n",
    "for i in range(5):\n",
    "    fig, ax = plt.subplots(tight_layout=True)\n",
    "    hist = ax.hist(histo_all[i], bins=nbins)"
   ]
  },
  {
   "cell_type": "code",
   "execution_count": null,
   "metadata": {},
   "outputs": [],
   "source": [
    "print(len(histo_all[0]))"
   ]
  },
  {
   "cell_type": "code",
   "execution_count": null,
   "metadata": {},
   "outputs": [],
   "source": [
    "X = np.array(histo_all)\n",
    "Y = []\n",
    "\n",
    "# encode classes\n",
    "classes = ['cactus', 'dice', 'raccoon', 'spaghetti', 'sushi']\n",
    "for classid, desc in descriptors:\n",
    "    val = 0\n",
    "    if classid == 'cactus':\n",
    "        val = 0\n",
    "    if classid == 'dice':\n",
    "        val = 1\n",
    "    if classid == 'raccoon':\n",
    "        val = 2\n",
    "    if classid == 'spaghetti':\n",
    "        val = 3\n",
    "    if classid == 'sushi':\n",
    "        val = 4\n",
    "    \n",
    "    Y.append(val)"
   ]
  },
  {
   "cell_type": "code",
   "execution_count": null,
   "metadata": {},
   "outputs": [],
   "source": [
    "svm = LinearSVC()\n",
    "svm.fit(X, Y)\n"
   ]
  },
  {
   "cell_type": "code",
   "execution_count": null,
   "metadata": {},
   "outputs": [],
   "source": [
    "def getHistogram(img, cluster):\n",
    "    # get features\n",
    "    sift = cv2.SIFT_create()\n",
    "    key, desc = sift.detectAndCompute(img,None)\n",
    "\n",
    "    # create histogram\n",
    "    histo = np.zeros(k)\n",
    "    nkp = np.size(key)\n",
    "    for d in desc:\n",
    "        idx = cluster.predict([d])\n",
    "        # instead of increasing each bin by one, add the normalized value\n",
    "        histo[idx] += 1/nkp\n",
    "        \n",
    "    return histo"
   ]
  },
  {
   "cell_type": "code",
   "execution_count": null,
   "metadata": {},
   "outputs": [],
   "source": [
    "print(test_set[0])\n",
    "\n",
    "for i in range(5):\n",
    "    hist = getHistogram(test_set[i][0], kmeans)\n",
    "        \n",
    "    classid = svm.predict([hist])\n",
    "    print(test_set[i][1], classid)"
   ]
  },
  {
   "cell_type": "code",
   "execution_count": null,
   "metadata": {},
   "outputs": [],
   "source": [
    "class SiftFeatures:\n",
    "    def __init__(self, cluster_k):\n",
    "        self.sift = cv2.SIFT_create()\n",
    "        self.k = cluster_k\n",
    "        self.cluster = MiniBatchKMeans(n_clusters=cluster_k, random_state=0, batch_size=6)\n",
    "        self.features = []\n",
    "\n",
    "    def fit(self, images):\n",
    "        \"\"\"\n",
    "        Compute SIFT descriptors and learn clusters from data.\n",
    "        :param images: list of tuple (classid, image)\n",
    "        :return: list of tupple (classid, sift-descriptors)\n",
    "        \"\"\"\n",
    "        \n",
    "        print(\"Identifying descriptors..\")\n",
    "        descriptors = []\n",
    "        for classid, img in images:\n",
    "            key, desc = self.sift.detectAndCompute(img, None)\n",
    "            descriptors.append((classid, desc))\n",
    "            \n",
    "        descs = descriptors[0][1]\n",
    "\n",
    "        for classid, desc in descriptors[1:]:\n",
    "            descs = np.vstack((descs, desc))\n",
    "        \n",
    "        print(\"Clustering data..\")\n",
    "        self.cluster.fit(descs)\n",
    "        \n",
    "        print(\"Clustered \" + str(len(self.cluster.cluster_centers_)) + \" centroids\")\n",
    "        \n",
    "        return descriptors\n",
    "\n",
    "    def get_histograms(self, descriptors):\n",
    "        \"\"\"\n",
    "        Compute histogram of the given descriptors\n",
    "        :param descriptors: list of tuple (classid, sift-descriptors) got from fit()\n",
    "        :return: list of tupple (classid, histogram)\n",
    "        \"\"\"\n",
    "        \n",
    "        print(\"Calculating histograms for \" + str(len(descriptors)) + \" items.\")\n",
    "        histo_all = []\n",
    "        for classid, desc in descriptors:\n",
    "            histo = np.zeros(self.k)\n",
    "            nkp = np.size(len(desc))\n",
    "\n",
    "            for d in desc:\n",
    "                idx = self.cluster.predict([d])\n",
    "                # instead of increasing each bin by one, add the normalized value\n",
    "                histo[idx] += 1/nkp\n",
    "\n",
    "            histo_all.append((classid, histo))\n",
    "        \n",
    "        return histo_all\n",
    "    \n",
    "    def get_histograms_img(self, images):\n",
    "        histo_all = []\n",
    "\n",
    "        for classid, img in images:\n",
    "            key, desc = self.sift.detectAndCompute(img, None)            \n",
    "            histo = np.zeros(self.k)\n",
    "            nkp = np.size(len(desc))\n",
    "\n",
    "            for d in desc:\n",
    "                idx = self.cluster.predict([d])\n",
    "                # instead of increasing each bin by one, add the normalized value\n",
    "                histo[idx] += 1/nkp\n",
    "\n",
    "            histo_all.append((classid, histo))\n",
    "        \n",
    "        return histo_all\n",
    "\n",
    "        "
   ]
  },
  {
   "cell_type": "code",
   "execution_count": null,
   "metadata": {},
   "outputs": [],
   "source": [
    "classes = ['cactus', 'raccoon']\n",
    "k = 100\n",
    "\n",
    "images = utils.load_images(classes)\n",
    "X, Y = utils.separate_data(images)\n",
    "print(Y)\n",
    "\n",
    "X_train, X_test, y_train, y_test = train_test_split(X, Y, test_size=0.4, random_state=0)\n",
    "\n",
    "s = SiftFeatures(k)\n",
    "descriptors = s.fit(zip(y_train, X_train))\n",
    "histograms = s.get_histograms(descriptors)\n",
    "\n",
    "X_h = [h[1] for h in histograms]\n",
    "print(\"Training with \" + str(len(X_h)) + \" samples\")\n",
    "\n",
    "# train svm\n",
    "svm = LinearSVC()\n",
    "svm.fit(X_h, y_train)\n",
    "\n",
    "test_histograms = s.get_histograms_img(zip(y_test, X_test))\n",
    "X_test_h = [h[1] for h in test_histograms]\n",
    "svm.score(X_test_h, y_test)"
   ]
  },
  {
   "cell_type": "code",
   "execution_count": null,
   "metadata": {},
   "outputs": [],
   "source": [
    "predictions = svm.predict(X_test_h)\n",
    "print(classification_report(y_test, predictions))"
   ]
  },
  {
   "cell_type": "markdown",
   "metadata": {},
   "source": [
    "### Custom SkLearn transformer"
   ]
  },
  {
   "cell_type": "code",
   "execution_count": 30,
   "metadata": {},
   "outputs": [],
   "source": [
    "class SiftTransformer(BaseEstimator, TransformerMixin):\n",
    "    def __init__(self, cluster_k=100):\n",
    "        # super(SiftTransformer, self).__init__()\n",
    "        self.sift = cv2.SIFT_create()\n",
    "        self.cluster_k = cluster_k\n",
    "        print(\"using K: \" + str(self.cluster_k))\n",
    "        self.cluster = MiniBatchKMeans(n_clusters=cluster_k, random_state=0, batch_size=6)\n",
    "        self.features = []\n",
    "\n",
    "    def fit(self, X, y=None, **kwargs):\n",
    "        \"\"\"\n",
    "        Compute SIFT descriptors and learn clusters from data.\n",
    "        :param X: features\n",
    "        :param y: target vector\n",
    "        :return: self: the class object\n",
    "        \"\"\"\n",
    "        \n",
    "        print(\"Identifying descriptors..\")\n",
    "        descriptors = []\n",
    "        for img in X:\n",
    "            key, desc = self.sift.detectAndCompute(img, None)\n",
    "            descriptors.append(desc)\n",
    "            \n",
    "        descs = descriptors[0]\n",
    "\n",
    "        for desc in descriptors[1:]:\n",
    "            descs = np.vstack((descs, desc))\n",
    "        \n",
    "        print(\"descriptors shape: \" + str(descs.shape))\n",
    "        print(\"Clustering data..\")\n",
    "        self.cluster.fit(descs)\n",
    "        \n",
    "        print(\"Clustered \" + str(len(self.cluster.cluster_centers_)) + \" centroids\")\n",
    "        \n",
    "        return self\n",
    "\n",
    "    def transform(self, X, y=None, **kwargs):\n",
    "        \"\"\"\n",
    "        Compute histogram of X\n",
    "        :param X: features\n",
    "        :return: list of tupple histogram\n",
    "        \"\"\"\n",
    "        \n",
    "        print(\"Calculating histograms for \" + str(len(X)) + \" items.\")\n",
    "        histo_all = []\n",
    "        for img in X:\n",
    "            key, desc = self.sift.detectAndCompute(img, None)\n",
    "            \n",
    "            histo = np.zeros(self.cluster_k)\n",
    "            nkp = np.size(len(key))\n",
    "\n",
    "            for d in desc:\n",
    "                idx = self.cluster.predict([d])\n",
    "                # instead of increasing each bin by one, add the normalized value\n",
    "                histo[idx] += 1/nkp\n",
    "\n",
    "            histo_all.append(histo)\n",
    "        \n",
    "        return histo_all\n",
    "    \n",
    "    def fit_transform(self, X, y=None, **kwargs):\n",
    "        print(\"fit and transforming..\")\n",
    "        \n",
    "        self = self.fit(X, y)\n",
    "        return self.transform(X, y)\n",
    "    \n",
    "    def get_histograms(self, images):\n",
    "        \"\"\"\n",
    "        Calculate histograms for given images\n",
    "        :param images: list of images\n",
    "        :return: list of histograms\n",
    "        \"\"\"\n",
    "        histo_all = []\n",
    "\n",
    "        for img in images:\n",
    "            key, desc = self.sift.detectAndCompute(img, None)            \n",
    "            histo = np.zeros(self.cluster_k)\n",
    "            nkp = np.size(len(desc))\n",
    "\n",
    "            for d in desc:\n",
    "                idx = self.cluster.predict([d])\n",
    "                # instead of increasing each bin by one, add the normalized value\n",
    "                histo[idx] += 1/nkp\n",
    "\n",
    "            histo_all.append(histo)\n",
    "        \n",
    "        return histo_all\n",
    "\n",
    "        "
   ]
  },
  {
   "cell_type": "code",
   "execution_count": 40,
   "metadata": {},
   "outputs": [
    {
     "name": "stdout",
     "output_type": "stream",
     "text": [
      "Loaded 490 images of the classes: cactus, dice, raccoon, spaghetti, sushi\n",
      "using K: 100\n",
      "Training with 294 samples\n",
      "fit and transforming..\n",
      "Identifying descriptors..\n",
      "descriptors shape: (297510, 128)\n",
      "Clustering data..\n"
     ]
    },
    {
     "name": "stderr",
     "output_type": "stream",
     "text": [
      "/home/juanolon/.local/lib/python3.8/site-packages/sklearn/cluster/_kmeans.py:1572: RuntimeWarning: init_size=18 should be larger than k=100. Setting it to 3*k\n",
      "  cluster_centers = _init_centroids(\n",
      "/home/juanolon/.local/lib/python3.8/site-packages/sklearn/cluster/_kmeans.py:1572: RuntimeWarning: init_size=18 should be larger than k=100. Setting it to 3*k\n",
      "  cluster_centers = _init_centroids(\n",
      "/home/juanolon/.local/lib/python3.8/site-packages/sklearn/cluster/_kmeans.py:1572: RuntimeWarning: init_size=18 should be larger than k=100. Setting it to 3*k\n",
      "  cluster_centers = _init_centroids(\n"
     ]
    },
    {
     "name": "stdout",
     "output_type": "stream",
     "text": [
      "Clustered 100 centroids\n",
      "Calculating histograms for 294 items.\n"
     ]
    },
    {
     "name": "stderr",
     "output_type": "stream",
     "text": [
      "/home/juanolon/.local/lib/python3.8/site-packages/sklearn/svm/_base.py:946: ConvergenceWarning: Liblinear failed to converge, increase the number of iterations.\n",
      "  warnings.warn(\"Liblinear failed to converge, increase \"\n"
     ]
    },
    {
     "data": {
      "text/plain": [
       "Pipeline(memory=None,\n",
       "         steps=[('sift', SiftTransformer(cluster_k=100)),\n",
       "                ('std',\n",
       "                 StandardScaler(copy=True, with_mean=True, with_std=True)),\n",
       "                ('svm',\n",
       "                 LinearSVC(C=1.0, class_weight=None, dual=True,\n",
       "                           fit_intercept=True, intercept_scaling=1,\n",
       "                           loss='squared_hinge', max_iter=1000,\n",
       "                           multi_class='ovr', penalty='l2', random_state=None,\n",
       "                           tol=0.0001, verbose=0))],\n",
       "         verbose=False)"
      ]
     },
     "execution_count": 40,
     "metadata": {},
     "output_type": "execute_result"
    }
   ],
   "source": [
    "from sklearn.preprocessing import StandardScaler\n",
    "from sklearn.svm import SVC\n",
    "\n",
    "classes = ['cactus', 'dice', 'raccoon', 'spaghetti', 'sushi']\n",
    "k = 128\n",
    "\n",
    "images = utils.load_images(classes)\n",
    "X, Y = utils.separate_data(images)\n",
    "\n",
    "X_train, X_test, y_train, y_test = train_test_split(X, Y, test_size=0.4, random_state=0)\n",
    "\n",
    "pipeline = Pipeline([\n",
    "    ('sift', SiftTransformer(k)),\n",
    "    ('std', StandardScaler()),\n",
    "    # ('svm', SVC(probability=True))\n",
    "    ('svm', LinearSVC())\n",
    "])\n",
    "\n",
    "print(\"Training with \" + str(len(X_train)) + \" samples\")\n",
    "pipeline.fit(X_train, y_train)\n"
   ]
  },
  {
   "cell_type": "code",
   "execution_count": 41,
   "metadata": {},
   "outputs": [
    {
     "name": "stdout",
     "output_type": "stream",
     "text": [
      "Calculating histograms for 196 items.\n"
     ]
    },
    {
     "data": {
      "text/plain": [
       "0.49489795918367346"
      ]
     },
     "execution_count": 41,
     "metadata": {},
     "output_type": "execute_result"
    }
   ],
   "source": [
    "pipeline.score(X_test, y_test)\n",
    "# 0.734\n",
    "\n",
    "# SVC: 0.6071428571428571 (all classes)\n",
    "# LinearSVC: 0.8860759493670886 (2 classes)\n",
    "# LinearSVC: 0.49489795918367346 (all classes)"
   ]
  },
  {
   "cell_type": "code",
   "execution_count": 39,
   "metadata": {},
   "outputs": [
    {
     "name": "stdout",
     "output_type": "stream",
     "text": [
      "Calculating histograms for 79 items.\n"
     ]
    },
    {
     "ename": "KeyboardInterrupt",
     "evalue": "",
     "output_type": "error",
     "traceback": [
      "\u001b[0;31m---------------------------------------------------------------------------\u001b[0m",
      "\u001b[0;31mKeyboardInterrupt\u001b[0m                         Traceback (most recent call last)",
      "\u001b[0;32m<ipython-input-39-99b5d8fa206b>\u001b[0m in \u001b[0;36m<module>\u001b[0;34m\u001b[0m\n\u001b[1;32m      1\u001b[0m \u001b[0;32mfrom\u001b[0m \u001b[0msklearn\u001b[0m\u001b[0;34m.\u001b[0m\u001b[0mmetrics\u001b[0m \u001b[0;32mimport\u001b[0m \u001b[0mconfusion_matrix\u001b[0m\u001b[0;34m\u001b[0m\u001b[0;34m\u001b[0m\u001b[0m\n\u001b[0;32m----> 2\u001b[0;31m \u001b[0mpredictions\u001b[0m \u001b[0;34m=\u001b[0m \u001b[0mpipeline\u001b[0m\u001b[0;34m.\u001b[0m\u001b[0mpredict\u001b[0m\u001b[0;34m(\u001b[0m\u001b[0mX_test\u001b[0m\u001b[0;34m)\u001b[0m\u001b[0;34m\u001b[0m\u001b[0;34m\u001b[0m\u001b[0m\n\u001b[0m\u001b[1;32m      3\u001b[0m \u001b[0mconfusion_matrix\u001b[0m\u001b[0;34m(\u001b[0m\u001b[0my_test\u001b[0m\u001b[0;34m,\u001b[0m \u001b[0mpredictions\u001b[0m\u001b[0;34m)\u001b[0m\u001b[0;34m\u001b[0m\u001b[0;34m\u001b[0m\u001b[0m\n",
      "\u001b[0;32m~/.local/lib/python3.8/site-packages/sklearn/utils/metaestimators.py\u001b[0m in \u001b[0;36m<lambda>\u001b[0;34m(*args, **kwargs)\u001b[0m\n\u001b[1;32m    114\u001b[0m \u001b[0;34m\u001b[0m\u001b[0m\n\u001b[1;32m    115\u001b[0m         \u001b[0;31m# lambda, but not partial, allows help() to work with update_wrapper\u001b[0m\u001b[0;34m\u001b[0m\u001b[0;34m\u001b[0m\u001b[0;34m\u001b[0m\u001b[0m\n\u001b[0;32m--> 116\u001b[0;31m         \u001b[0mout\u001b[0m \u001b[0;34m=\u001b[0m \u001b[0;32mlambda\u001b[0m \u001b[0;34m*\u001b[0m\u001b[0margs\u001b[0m\u001b[0;34m,\u001b[0m \u001b[0;34m**\u001b[0m\u001b[0mkwargs\u001b[0m\u001b[0;34m:\u001b[0m \u001b[0mself\u001b[0m\u001b[0;34m.\u001b[0m\u001b[0mfn\u001b[0m\u001b[0;34m(\u001b[0m\u001b[0mobj\u001b[0m\u001b[0;34m,\u001b[0m \u001b[0;34m*\u001b[0m\u001b[0margs\u001b[0m\u001b[0;34m,\u001b[0m \u001b[0;34m**\u001b[0m\u001b[0mkwargs\u001b[0m\u001b[0;34m)\u001b[0m\u001b[0;34m\u001b[0m\u001b[0;34m\u001b[0m\u001b[0m\n\u001b[0m\u001b[1;32m    117\u001b[0m         \u001b[0;31m# update the docstring of the returned function\u001b[0m\u001b[0;34m\u001b[0m\u001b[0;34m\u001b[0m\u001b[0;34m\u001b[0m\u001b[0m\n\u001b[1;32m    118\u001b[0m         \u001b[0mupdate_wrapper\u001b[0m\u001b[0;34m(\u001b[0m\u001b[0mout\u001b[0m\u001b[0;34m,\u001b[0m \u001b[0mself\u001b[0m\u001b[0;34m.\u001b[0m\u001b[0mfn\u001b[0m\u001b[0;34m)\u001b[0m\u001b[0;34m\u001b[0m\u001b[0;34m\u001b[0m\u001b[0m\n",
      "\u001b[0;32m~/.local/lib/python3.8/site-packages/sklearn/pipeline.py\u001b[0m in \u001b[0;36mpredict\u001b[0;34m(self, X, **predict_params)\u001b[0m\n\u001b[1;32m    417\u001b[0m         \u001b[0mXt\u001b[0m \u001b[0;34m=\u001b[0m \u001b[0mX\u001b[0m\u001b[0;34m\u001b[0m\u001b[0;34m\u001b[0m\u001b[0m\n\u001b[1;32m    418\u001b[0m         \u001b[0;32mfor\u001b[0m \u001b[0m_\u001b[0m\u001b[0;34m,\u001b[0m \u001b[0mname\u001b[0m\u001b[0;34m,\u001b[0m \u001b[0mtransform\u001b[0m \u001b[0;32min\u001b[0m \u001b[0mself\u001b[0m\u001b[0;34m.\u001b[0m\u001b[0m_iter\u001b[0m\u001b[0;34m(\u001b[0m\u001b[0mwith_final\u001b[0m\u001b[0;34m=\u001b[0m\u001b[0;32mFalse\u001b[0m\u001b[0;34m)\u001b[0m\u001b[0;34m:\u001b[0m\u001b[0;34m\u001b[0m\u001b[0;34m\u001b[0m\u001b[0m\n\u001b[0;32m--> 419\u001b[0;31m             \u001b[0mXt\u001b[0m \u001b[0;34m=\u001b[0m \u001b[0mtransform\u001b[0m\u001b[0;34m.\u001b[0m\u001b[0mtransform\u001b[0m\u001b[0;34m(\u001b[0m\u001b[0mXt\u001b[0m\u001b[0;34m)\u001b[0m\u001b[0;34m\u001b[0m\u001b[0;34m\u001b[0m\u001b[0m\n\u001b[0m\u001b[1;32m    420\u001b[0m         \u001b[0;32mreturn\u001b[0m \u001b[0mself\u001b[0m\u001b[0;34m.\u001b[0m\u001b[0msteps\u001b[0m\u001b[0;34m[\u001b[0m\u001b[0;34m-\u001b[0m\u001b[0;36m1\u001b[0m\u001b[0;34m]\u001b[0m\u001b[0;34m[\u001b[0m\u001b[0;34m-\u001b[0m\u001b[0;36m1\u001b[0m\u001b[0;34m]\u001b[0m\u001b[0;34m.\u001b[0m\u001b[0mpredict\u001b[0m\u001b[0;34m(\u001b[0m\u001b[0mXt\u001b[0m\u001b[0;34m,\u001b[0m \u001b[0;34m**\u001b[0m\u001b[0mpredict_params\u001b[0m\u001b[0;34m)\u001b[0m\u001b[0;34m\u001b[0m\u001b[0;34m\u001b[0m\u001b[0m\n\u001b[1;32m    421\u001b[0m \u001b[0;34m\u001b[0m\u001b[0m\n",
      "\u001b[0;32m<ipython-input-30-121c9730f923>\u001b[0m in \u001b[0;36mtransform\u001b[0;34m(self, X, y, **kwargs)\u001b[0m\n\u001b[1;32m     51\u001b[0m \u001b[0;34m\u001b[0m\u001b[0m\n\u001b[1;32m     52\u001b[0m             \u001b[0;32mfor\u001b[0m \u001b[0md\u001b[0m \u001b[0;32min\u001b[0m \u001b[0mdesc\u001b[0m\u001b[0;34m:\u001b[0m\u001b[0;34m\u001b[0m\u001b[0;34m\u001b[0m\u001b[0m\n\u001b[0;32m---> 53\u001b[0;31m                 \u001b[0midx\u001b[0m \u001b[0;34m=\u001b[0m \u001b[0mself\u001b[0m\u001b[0;34m.\u001b[0m\u001b[0mcluster\u001b[0m\u001b[0;34m.\u001b[0m\u001b[0mpredict\u001b[0m\u001b[0;34m(\u001b[0m\u001b[0;34m[\u001b[0m\u001b[0md\u001b[0m\u001b[0;34m]\u001b[0m\u001b[0;34m)\u001b[0m\u001b[0;34m\u001b[0m\u001b[0;34m\u001b[0m\u001b[0m\n\u001b[0m\u001b[1;32m     54\u001b[0m                 \u001b[0;31m# instead of increasing each bin by one, add the normalized value\u001b[0m\u001b[0;34m\u001b[0m\u001b[0;34m\u001b[0m\u001b[0;34m\u001b[0m\u001b[0m\n\u001b[1;32m     55\u001b[0m                 \u001b[0mhisto\u001b[0m\u001b[0;34m[\u001b[0m\u001b[0midx\u001b[0m\u001b[0;34m]\u001b[0m \u001b[0;34m+=\u001b[0m \u001b[0;36m1\u001b[0m\u001b[0;34m/\u001b[0m\u001b[0mnkp\u001b[0m\u001b[0;34m\u001b[0m\u001b[0;34m\u001b[0m\u001b[0m\n",
      "\u001b[0;32m~/.local/lib/python3.8/site-packages/sklearn/cluster/_kmeans.py\u001b[0m in \u001b[0;36mpredict\u001b[0;34m(self, X, sample_weight)\u001b[0m\n\u001b[1;32m   1764\u001b[0m \u001b[0;34m\u001b[0m\u001b[0m\n\u001b[1;32m   1765\u001b[0m         \u001b[0mX\u001b[0m \u001b[0;34m=\u001b[0m \u001b[0mself\u001b[0m\u001b[0;34m.\u001b[0m\u001b[0m_check_test_data\u001b[0m\u001b[0;34m(\u001b[0m\u001b[0mX\u001b[0m\u001b[0;34m)\u001b[0m\u001b[0;34m\u001b[0m\u001b[0;34m\u001b[0m\u001b[0m\n\u001b[0;32m-> 1766\u001b[0;31m         \u001b[0;32mreturn\u001b[0m \u001b[0mself\u001b[0m\u001b[0;34m.\u001b[0m\u001b[0m_labels_inertia_minibatch\u001b[0m\u001b[0;34m(\u001b[0m\u001b[0mX\u001b[0m\u001b[0;34m,\u001b[0m \u001b[0msample_weight\u001b[0m\u001b[0;34m)\u001b[0m\u001b[0;34m[\u001b[0m\u001b[0;36m0\u001b[0m\u001b[0;34m]\u001b[0m\u001b[0;34m\u001b[0m\u001b[0;34m\u001b[0m\u001b[0m\n\u001b[0m",
      "\u001b[0;32m~/.local/lib/python3.8/site-packages/sklearn/cluster/_kmeans.py\u001b[0m in \u001b[0;36m_labels_inertia_minibatch\u001b[0;34m(self, X, sample_weight)\u001b[0m\n\u001b[1;32m   1665\u001b[0m         \u001b[0mx_squared_norms\u001b[0m \u001b[0;34m=\u001b[0m \u001b[0mrow_norms\u001b[0m\u001b[0;34m(\u001b[0m\u001b[0mX\u001b[0m\u001b[0;34m,\u001b[0m \u001b[0msquared\u001b[0m\u001b[0;34m=\u001b[0m\u001b[0;32mTrue\u001b[0m\u001b[0;34m)\u001b[0m\u001b[0;34m\u001b[0m\u001b[0;34m\u001b[0m\u001b[0m\n\u001b[1;32m   1666\u001b[0m         \u001b[0mslices\u001b[0m \u001b[0;34m=\u001b[0m \u001b[0mgen_batches\u001b[0m\u001b[0;34m(\u001b[0m\u001b[0mX\u001b[0m\u001b[0;34m.\u001b[0m\u001b[0mshape\u001b[0m\u001b[0;34m[\u001b[0m\u001b[0;36m0\u001b[0m\u001b[0;34m]\u001b[0m\u001b[0;34m,\u001b[0m \u001b[0mself\u001b[0m\u001b[0;34m.\u001b[0m\u001b[0mbatch_size\u001b[0m\u001b[0;34m)\u001b[0m\u001b[0;34m\u001b[0m\u001b[0;34m\u001b[0m\u001b[0m\n\u001b[0;32m-> 1667\u001b[0;31m         results = [_labels_inertia(X[s], sample_weight[s], x_squared_norms[s],\n\u001b[0m\u001b[1;32m   1668\u001b[0m                                    self.cluster_centers_) for s in slices]\n\u001b[1;32m   1669\u001b[0m         \u001b[0mlabels\u001b[0m\u001b[0;34m,\u001b[0m \u001b[0minertia\u001b[0m \u001b[0;34m=\u001b[0m \u001b[0mzip\u001b[0m\u001b[0;34m(\u001b[0m\u001b[0;34m*\u001b[0m\u001b[0mresults\u001b[0m\u001b[0;34m)\u001b[0m\u001b[0;34m\u001b[0m\u001b[0;34m\u001b[0m\u001b[0m\n",
      "\u001b[0;32m~/.local/lib/python3.8/site-packages/sklearn/cluster/_kmeans.py\u001b[0m in \u001b[0;36m<listcomp>\u001b[0;34m(.0)\u001b[0m\n\u001b[1;32m   1665\u001b[0m         \u001b[0mx_squared_norms\u001b[0m \u001b[0;34m=\u001b[0m \u001b[0mrow_norms\u001b[0m\u001b[0;34m(\u001b[0m\u001b[0mX\u001b[0m\u001b[0;34m,\u001b[0m \u001b[0msquared\u001b[0m\u001b[0;34m=\u001b[0m\u001b[0;32mTrue\u001b[0m\u001b[0;34m)\u001b[0m\u001b[0;34m\u001b[0m\u001b[0;34m\u001b[0m\u001b[0m\n\u001b[1;32m   1666\u001b[0m         \u001b[0mslices\u001b[0m \u001b[0;34m=\u001b[0m \u001b[0mgen_batches\u001b[0m\u001b[0;34m(\u001b[0m\u001b[0mX\u001b[0m\u001b[0;34m.\u001b[0m\u001b[0mshape\u001b[0m\u001b[0;34m[\u001b[0m\u001b[0;36m0\u001b[0m\u001b[0;34m]\u001b[0m\u001b[0;34m,\u001b[0m \u001b[0mself\u001b[0m\u001b[0;34m.\u001b[0m\u001b[0mbatch_size\u001b[0m\u001b[0;34m)\u001b[0m\u001b[0;34m\u001b[0m\u001b[0;34m\u001b[0m\u001b[0m\n\u001b[0;32m-> 1667\u001b[0;31m         results = [_labels_inertia(X[s], sample_weight[s], x_squared_norms[s],\n\u001b[0m\u001b[1;32m   1668\u001b[0m                                    self.cluster_centers_) for s in slices]\n\u001b[1;32m   1669\u001b[0m         \u001b[0mlabels\u001b[0m\u001b[0;34m,\u001b[0m \u001b[0minertia\u001b[0m \u001b[0;34m=\u001b[0m \u001b[0mzip\u001b[0m\u001b[0;34m(\u001b[0m\u001b[0;34m*\u001b[0m\u001b[0mresults\u001b[0m\u001b[0;34m)\u001b[0m\u001b[0;34m\u001b[0m\u001b[0;34m\u001b[0m\u001b[0m\n",
      "\u001b[0;32m~/.local/lib/python3.8/site-packages/sklearn/cluster/_kmeans.py\u001b[0m in \u001b[0;36m_labels_inertia\u001b[0;34m(X, sample_weight, x_squared_norms, centers, precompute_distances, distances)\u001b[0m\n\u001b[1;32m    558\u001b[0m     \u001b[0;32melse\u001b[0m\u001b[0;34m:\u001b[0m\u001b[0;34m\u001b[0m\u001b[0;34m\u001b[0m\u001b[0m\n\u001b[1;32m    559\u001b[0m         \u001b[0;32mif\u001b[0m \u001b[0mprecompute_distances\u001b[0m\u001b[0;34m:\u001b[0m\u001b[0;34m\u001b[0m\u001b[0;34m\u001b[0m\u001b[0m\n\u001b[0;32m--> 560\u001b[0;31m             return _labels_inertia_precompute_dense(X, sample_weight,\n\u001b[0m\u001b[1;32m    561\u001b[0m                                                     \u001b[0mx_squared_norms\u001b[0m\u001b[0;34m,\u001b[0m \u001b[0mcenters\u001b[0m\u001b[0;34m,\u001b[0m\u001b[0;34m\u001b[0m\u001b[0;34m\u001b[0m\u001b[0m\n\u001b[1;32m    562\u001b[0m                                                     distances)\n",
      "\u001b[0;32m~/.local/lib/python3.8/site-packages/sklearn/cluster/_kmeans.py\u001b[0m in \u001b[0;36m_labels_inertia_precompute_dense\u001b[0;34m(X, sample_weight, x_squared_norms, centers, distances)\u001b[0m\n\u001b[1;32m    496\u001b[0m     \u001b[0;31m# memory blowup in the case of a large number of samples and clusters.\u001b[0m\u001b[0;34m\u001b[0m\u001b[0;34m\u001b[0m\u001b[0;34m\u001b[0m\u001b[0m\n\u001b[1;32m    497\u001b[0m     \u001b[0;31m# TODO: Once PR #7383 is merged use check_inputs=False in metric_kwargs.\u001b[0m\u001b[0;34m\u001b[0m\u001b[0;34m\u001b[0m\u001b[0;34m\u001b[0m\u001b[0m\n\u001b[0;32m--> 498\u001b[0;31m     labels, mindist = pairwise_distances_argmin_min(\n\u001b[0m\u001b[1;32m    499\u001b[0m         X=X, Y=centers, metric='euclidean', metric_kwargs={'squared': True})\n\u001b[1;32m    500\u001b[0m     \u001b[0;31m# cython k-means code assumes int32 inputs\u001b[0m\u001b[0;34m\u001b[0m\u001b[0;34m\u001b[0m\u001b[0;34m\u001b[0m\u001b[0m\n",
      "\u001b[0;32m~/.local/lib/python3.8/site-packages/sklearn/metrics/pairwise.py\u001b[0m in \u001b[0;36mpairwise_distances_argmin_min\u001b[0;34m(X, Y, axis, metric, metric_kwargs)\u001b[0m\n\u001b[1;32m    581\u001b[0m         \u001b[0mX\u001b[0m\u001b[0;34m,\u001b[0m \u001b[0mY\u001b[0m \u001b[0;34m=\u001b[0m \u001b[0mY\u001b[0m\u001b[0;34m,\u001b[0m \u001b[0mX\u001b[0m\u001b[0;34m\u001b[0m\u001b[0;34m\u001b[0m\u001b[0m\n\u001b[1;32m    582\u001b[0m \u001b[0;34m\u001b[0m\u001b[0m\n\u001b[0;32m--> 583\u001b[0;31m     indices, values = zip(*pairwise_distances_chunked(\n\u001b[0m\u001b[1;32m    584\u001b[0m         \u001b[0mX\u001b[0m\u001b[0;34m,\u001b[0m \u001b[0mY\u001b[0m\u001b[0;34m,\u001b[0m \u001b[0mreduce_func\u001b[0m\u001b[0;34m=\u001b[0m\u001b[0m_argmin_min_reduce\u001b[0m\u001b[0;34m,\u001b[0m \u001b[0mmetric\u001b[0m\u001b[0;34m=\u001b[0m\u001b[0mmetric\u001b[0m\u001b[0;34m,\u001b[0m\u001b[0;34m\u001b[0m\u001b[0;34m\u001b[0m\u001b[0m\n\u001b[1;32m    585\u001b[0m         **metric_kwargs))\n",
      "\u001b[0;32m~/.local/lib/python3.8/site-packages/sklearn/metrics/pairwise.py\u001b[0m in \u001b[0;36mpairwise_distances_chunked\u001b[0;34m(X, Y, reduce_func, metric, n_jobs, working_memory, **kwds)\u001b[0m\n\u001b[1;32m   1592\u001b[0m         \u001b[0;32melse\u001b[0m\u001b[0;34m:\u001b[0m\u001b[0;34m\u001b[0m\u001b[0;34m\u001b[0m\u001b[0m\n\u001b[1;32m   1593\u001b[0m             \u001b[0mX_chunk\u001b[0m \u001b[0;34m=\u001b[0m \u001b[0mX\u001b[0m\u001b[0;34m[\u001b[0m\u001b[0msl\u001b[0m\u001b[0;34m]\u001b[0m\u001b[0;34m\u001b[0m\u001b[0;34m\u001b[0m\u001b[0m\n\u001b[0;32m-> 1594\u001b[0;31m         D_chunk = pairwise_distances(X_chunk, Y, metric=metric,\n\u001b[0m\u001b[1;32m   1595\u001b[0m                                      n_jobs=n_jobs, **kwds)\n\u001b[1;32m   1596\u001b[0m         if ((X is Y or Y is None)\n",
      "\u001b[0;32m~/.local/lib/python3.8/site-packages/sklearn/metrics/pairwise.py\u001b[0m in \u001b[0;36mpairwise_distances\u001b[0;34m(X, Y, metric, n_jobs, force_all_finite, **kwds)\u001b[0m\n\u001b[1;32m   1750\u001b[0m         \u001b[0mfunc\u001b[0m \u001b[0;34m=\u001b[0m \u001b[0mpartial\u001b[0m\u001b[0;34m(\u001b[0m\u001b[0mdistance\u001b[0m\u001b[0;34m.\u001b[0m\u001b[0mcdist\u001b[0m\u001b[0;34m,\u001b[0m \u001b[0mmetric\u001b[0m\u001b[0;34m=\u001b[0m\u001b[0mmetric\u001b[0m\u001b[0;34m,\u001b[0m \u001b[0;34m**\u001b[0m\u001b[0mkwds\u001b[0m\u001b[0;34m)\u001b[0m\u001b[0;34m\u001b[0m\u001b[0;34m\u001b[0m\u001b[0m\n\u001b[1;32m   1751\u001b[0m \u001b[0;34m\u001b[0m\u001b[0m\n\u001b[0;32m-> 1752\u001b[0;31m     \u001b[0;32mreturn\u001b[0m \u001b[0m_parallel_pairwise\u001b[0m\u001b[0;34m(\u001b[0m\u001b[0mX\u001b[0m\u001b[0;34m,\u001b[0m \u001b[0mY\u001b[0m\u001b[0;34m,\u001b[0m \u001b[0mfunc\u001b[0m\u001b[0;34m,\u001b[0m \u001b[0mn_jobs\u001b[0m\u001b[0;34m,\u001b[0m \u001b[0;34m**\u001b[0m\u001b[0mkwds\u001b[0m\u001b[0;34m)\u001b[0m\u001b[0;34m\u001b[0m\u001b[0;34m\u001b[0m\u001b[0m\n\u001b[0m\u001b[1;32m   1753\u001b[0m \u001b[0;34m\u001b[0m\u001b[0m\n\u001b[1;32m   1754\u001b[0m \u001b[0;34m\u001b[0m\u001b[0m\n",
      "\u001b[0;32m~/.local/lib/python3.8/site-packages/sklearn/metrics/pairwise.py\u001b[0m in \u001b[0;36m_parallel_pairwise\u001b[0;34m(X, Y, func, n_jobs, **kwds)\u001b[0m\n\u001b[1;32m   1346\u001b[0m \u001b[0;34m\u001b[0m\u001b[0m\n\u001b[1;32m   1347\u001b[0m     \u001b[0;32mif\u001b[0m \u001b[0meffective_n_jobs\u001b[0m\u001b[0;34m(\u001b[0m\u001b[0mn_jobs\u001b[0m\u001b[0;34m)\u001b[0m \u001b[0;34m==\u001b[0m \u001b[0;36m1\u001b[0m\u001b[0;34m:\u001b[0m\u001b[0;34m\u001b[0m\u001b[0;34m\u001b[0m\u001b[0m\n\u001b[0;32m-> 1348\u001b[0;31m         \u001b[0;32mreturn\u001b[0m \u001b[0mfunc\u001b[0m\u001b[0;34m(\u001b[0m\u001b[0mX\u001b[0m\u001b[0;34m,\u001b[0m \u001b[0mY\u001b[0m\u001b[0;34m,\u001b[0m \u001b[0;34m**\u001b[0m\u001b[0mkwds\u001b[0m\u001b[0;34m)\u001b[0m\u001b[0;34m\u001b[0m\u001b[0;34m\u001b[0m\u001b[0m\n\u001b[0m\u001b[1;32m   1349\u001b[0m \u001b[0;34m\u001b[0m\u001b[0m\n\u001b[1;32m   1350\u001b[0m     \u001b[0;31m# enforce a threading backend to prevent data communication overhead\u001b[0m\u001b[0;34m\u001b[0m\u001b[0;34m\u001b[0m\u001b[0;34m\u001b[0m\u001b[0m\n",
      "\u001b[0;32m~/.local/lib/python3.8/site-packages/sklearn/metrics/pairwise.py\u001b[0m in \u001b[0;36meuclidean_distances\u001b[0;34m(X, Y, Y_norm_squared, squared, X_norm_squared)\u001b[0m\n\u001b[1;32m    301\u001b[0m     \u001b[0;32melse\u001b[0m\u001b[0;34m:\u001b[0m\u001b[0;34m\u001b[0m\u001b[0;34m\u001b[0m\u001b[0m\n\u001b[1;32m    302\u001b[0m         \u001b[0;31m# if dtype is already float64, no need to chunk and upcast\u001b[0m\u001b[0;34m\u001b[0m\u001b[0;34m\u001b[0m\u001b[0;34m\u001b[0m\u001b[0m\n\u001b[0;32m--> 303\u001b[0;31m         \u001b[0mdistances\u001b[0m \u001b[0;34m=\u001b[0m \u001b[0;34m-\u001b[0m \u001b[0;36m2\u001b[0m \u001b[0;34m*\u001b[0m \u001b[0msafe_sparse_dot\u001b[0m\u001b[0;34m(\u001b[0m\u001b[0mX\u001b[0m\u001b[0;34m,\u001b[0m \u001b[0mY\u001b[0m\u001b[0;34m.\u001b[0m\u001b[0mT\u001b[0m\u001b[0;34m,\u001b[0m \u001b[0mdense_output\u001b[0m\u001b[0;34m=\u001b[0m\u001b[0;32mTrue\u001b[0m\u001b[0;34m)\u001b[0m\u001b[0;34m\u001b[0m\u001b[0;34m\u001b[0m\u001b[0m\n\u001b[0m\u001b[1;32m    304\u001b[0m         \u001b[0mdistances\u001b[0m \u001b[0;34m+=\u001b[0m \u001b[0mXX\u001b[0m\u001b[0;34m\u001b[0m\u001b[0;34m\u001b[0m\u001b[0m\n\u001b[1;32m    305\u001b[0m         \u001b[0mdistances\u001b[0m \u001b[0;34m+=\u001b[0m \u001b[0mYY\u001b[0m\u001b[0;34m\u001b[0m\u001b[0;34m\u001b[0m\u001b[0m\n",
      "\u001b[0;32m~/.local/lib/python3.8/site-packages/sklearn/utils/extmath.py\u001b[0m in \u001b[0;36msafe_sparse_dot\u001b[0;34m(a, b, dense_output)\u001b[0m\n\u001b[1;32m    149\u001b[0m             \u001b[0mret\u001b[0m \u001b[0;34m=\u001b[0m \u001b[0mnp\u001b[0m\u001b[0;34m.\u001b[0m\u001b[0mdot\u001b[0m\u001b[0;34m(\u001b[0m\u001b[0ma\u001b[0m\u001b[0;34m,\u001b[0m \u001b[0mb\u001b[0m\u001b[0;34m)\u001b[0m\u001b[0;34m\u001b[0m\u001b[0;34m\u001b[0m\u001b[0m\n\u001b[1;32m    150\u001b[0m     \u001b[0;32melse\u001b[0m\u001b[0;34m:\u001b[0m\u001b[0;34m\u001b[0m\u001b[0;34m\u001b[0m\u001b[0m\n\u001b[0;32m--> 151\u001b[0;31m         \u001b[0mret\u001b[0m \u001b[0;34m=\u001b[0m \u001b[0ma\u001b[0m \u001b[0;34m@\u001b[0m \u001b[0mb\u001b[0m\u001b[0;34m\u001b[0m\u001b[0;34m\u001b[0m\u001b[0m\n\u001b[0m\u001b[1;32m    152\u001b[0m \u001b[0;34m\u001b[0m\u001b[0m\n\u001b[1;32m    153\u001b[0m     if (sparse.issparse(a) and sparse.issparse(b)\n",
      "\u001b[0;31mKeyboardInterrupt\u001b[0m: "
     ]
    }
   ],
   "source": [
    "from sklearn.metrics import confusion_matrix\n",
    "predictions = pipeline.predict(X_test)\n",
    "confusion_matrix(y_test, predictions)"
   ]
  },
  {
   "cell_type": "code",
   "execution_count": 13,
   "metadata": {},
   "outputs": [
    {
     "name": "stdout",
     "output_type": "stream",
     "text": [
      "[0, 0, 0, 2, 2, 2, 2, 2, 0, 0, 0, 0, 2, 2, 2, 2, 2, 0, 0, 2, 0, 2, 2, 0, 0, 0, 2, 2, 2, 0, 0, 2, 0, 0, 0, 0, 2, 2, 2, 0, 2, 2, 0, 0, 0, 2, 2, 2, 2, 0, 2, 0, 0, 2, 0, 2, 2, 0, 0, 2, 2, 0, 2, 0, 0, 2, 2, 2, 0, 0, 2, 2, 2, 0, 0, 0, 2, 0, 2]\n",
      "[2 0 2 2 2 2 0 2 0 2 2 0 2 2 2 0 2 2 0 2 0 2 2 0 0 0 2 2 2 2 2 2 0 0 2 0 2\n",
      " 2 2 0 2 2 2 0 0 0 2 0 2 2 0 0 0 2 2 2 2 0 0 2 2 0 2 2 0 0 2 2 0 0 0 2 2 2\n",
      " 0 2 2 0 2]\n",
      "[[0.30379747 0.17721519]\n",
      " [0.08860759 0.43037975]]\n"
     ]
    },
    {
     "data": {
      "text/plain": [
       "<matplotlib.axes._subplots.AxesSubplot at 0x7f22e0993fa0>"
      ]
     },
     "execution_count": 13,
     "metadata": {},
     "output_type": "execute_result"
    },
    {
     "data": {
      "image/png": "[encoded data removed]",
      "text/plain": [
       "<Figure size 432x288 with 2 Axes>"
      ]
     },
     "metadata": {
      "needs_background": "light"
     },
     "output_type": "display_data"
    }
   ],
   "source": [
    "import seaborn as sn\n",
    "from sklearn.metrics import f1_score\n",
    "\n",
    "print(y_test)\n",
    "print(predictions)\n",
    "\n",
    "# print(f1_score(y_test, predictions))\n",
    "conf = confusion_matrix(y_test, predictions)\n",
    "print(conf/79)\n",
    "sn.heatmap(conf/79, annot=True)\n"
   ]
  },
  {
   "cell_type": "code",
   "execution_count": 54,
   "metadata": {},
   "outputs": [
    {
     "name": "stdout",
     "output_type": "stream",
     "text": [
      "Loaded 490 images of the classes: cactus, dice, raccoon, spaghetti, sushi\n",
      "using K: 384\n",
      "using K: 384\n",
      "using K: 384\n",
      "fit and transforming..\n",
      "Identifying descriptors..\n",
      "descriptors shape: (231010, 128)\n",
      "Clustering data..\n"
     ]
    },
    {
     "name": "stderr",
     "output_type": "stream",
     "text": [
      "/home/juanolon/.local/lib/python3.8/site-packages/sklearn/cluster/_kmeans.py:1572: RuntimeWarning: init_size=18 should be larger than k=384. Setting it to 3*k\n",
      "  cluster_centers = _init_centroids(\n",
      "/home/juanolon/.local/lib/python3.8/site-packages/sklearn/cluster/_kmeans.py:1572: RuntimeWarning: init_size=18 should be larger than k=384. Setting it to 3*k\n",
      "  cluster_centers = _init_centroids(\n",
      "/home/juanolon/.local/lib/python3.8/site-packages/sklearn/cluster/_kmeans.py:1572: RuntimeWarning: init_size=18 should be larger than k=384. Setting it to 3*k\n",
      "  cluster_centers = _init_centroids(\n"
     ]
    },
    {
     "name": "stdout",
     "output_type": "stream",
     "text": [
      "Clustered 384 centroids\n",
      "Calculating histograms for 235 items.\n",
      "Calculating histograms for 59 items.\n",
      "using K: 384\n",
      "fit and transforming..\n",
      "Identifying descriptors..\n",
      "descriptors shape: (234315, 128)\n",
      "Clustering data..\n"
     ]
    },
    {
     "name": "stderr",
     "output_type": "stream",
     "text": [
      "/home/juanolon/.local/lib/python3.8/site-packages/sklearn/cluster/_kmeans.py:1572: RuntimeWarning: init_size=18 should be larger than k=384. Setting it to 3*k\n",
      "  cluster_centers = _init_centroids(\n",
      "/home/juanolon/.local/lib/python3.8/site-packages/sklearn/cluster/_kmeans.py:1572: RuntimeWarning: init_size=18 should be larger than k=384. Setting it to 3*k\n",
      "  cluster_centers = _init_centroids(\n",
      "/home/juanolon/.local/lib/python3.8/site-packages/sklearn/cluster/_kmeans.py:1572: RuntimeWarning: init_size=18 should be larger than k=384. Setting it to 3*k\n",
      "  cluster_centers = _init_centroids(\n"
     ]
    },
    {
     "name": "stdout",
     "output_type": "stream",
     "text": [
      "Clustered 384 centroids\n",
      "Calculating histograms for 235 items.\n",
      "Calculating histograms for 59 items.\n",
      "using K: 384\n",
      "fit and transforming..\n",
      "Identifying descriptors..\n",
      "descriptors shape: (238772, 128)\n",
      "Clustering data..\n"
     ]
    },
    {
     "name": "stderr",
     "output_type": "stream",
     "text": [
      "/home/juanolon/.local/lib/python3.8/site-packages/sklearn/cluster/_kmeans.py:1572: RuntimeWarning: init_size=18 should be larger than k=384. Setting it to 3*k\n",
      "  cluster_centers = _init_centroids(\n",
      "/home/juanolon/.local/lib/python3.8/site-packages/sklearn/cluster/_kmeans.py:1572: RuntimeWarning: init_size=18 should be larger than k=384. Setting it to 3*k\n",
      "  cluster_centers = _init_centroids(\n",
      "/home/juanolon/.local/lib/python3.8/site-packages/sklearn/cluster/_kmeans.py:1572: RuntimeWarning: init_size=18 should be larger than k=384. Setting it to 3*k\n",
      "  cluster_centers = _init_centroids(\n"
     ]
    },
    {
     "name": "stdout",
     "output_type": "stream",
     "text": [
      "Clustered 384 centroids\n",
      "Calculating histograms for 235 items.\n",
      "Calculating histograms for 59 items.\n",
      "using K: 384\n",
      "fit and transforming..\n",
      "Identifying descriptors..\n",
      "descriptors shape: (241575, 128)\n",
      "Clustering data..\n"
     ]
    },
    {
     "name": "stderr",
     "output_type": "stream",
     "text": [
      "/home/juanolon/.local/lib/python3.8/site-packages/sklearn/cluster/_kmeans.py:1572: RuntimeWarning: init_size=18 should be larger than k=384. Setting it to 3*k\n",
      "  cluster_centers = _init_centroids(\n",
      "/home/juanolon/.local/lib/python3.8/site-packages/sklearn/cluster/_kmeans.py:1572: RuntimeWarning: init_size=18 should be larger than k=384. Setting it to 3*k\n",
      "  cluster_centers = _init_centroids(\n",
      "/home/juanolon/.local/lib/python3.8/site-packages/sklearn/cluster/_kmeans.py:1572: RuntimeWarning: init_size=18 should be larger than k=384. Setting it to 3*k\n",
      "  cluster_centers = _init_centroids(\n"
     ]
    },
    {
     "name": "stdout",
     "output_type": "stream",
     "text": [
      "Clustered 384 centroids\n",
      "Calculating histograms for 235 items.\n",
      "Calculating histograms for 59 items.\n",
      "using K: 384\n",
      "fit and transforming..\n",
      "Identifying descriptors..\n",
      "descriptors shape: (244368, 128)\n",
      "Clustering data..\n"
     ]
    },
    {
     "name": "stderr",
     "output_type": "stream",
     "text": [
      "/home/juanolon/.local/lib/python3.8/site-packages/sklearn/cluster/_kmeans.py:1572: RuntimeWarning: init_size=18 should be larger than k=384. Setting it to 3*k\n",
      "  cluster_centers = _init_centroids(\n",
      "/home/juanolon/.local/lib/python3.8/site-packages/sklearn/cluster/_kmeans.py:1572: RuntimeWarning: init_size=18 should be larger than k=384. Setting it to 3*k\n",
      "  cluster_centers = _init_centroids(\n",
      "/home/juanolon/.local/lib/python3.8/site-packages/sklearn/cluster/_kmeans.py:1572: RuntimeWarning: init_size=18 should be larger than k=384. Setting it to 3*k\n",
      "  cluster_centers = _init_centroids(\n"
     ]
    },
    {
     "name": "stdout",
     "output_type": "stream",
     "text": [
      "Clustered 384 centroids\n",
      "Calculating histograms for 236 items.\n",
      "Calculating histograms for 58 items.\n",
      "using K: 384\n",
      "fit and transforming..\n",
      "Identifying descriptors..\n",
      "descriptors shape: (231010, 128)\n",
      "Clustering data..\n"
     ]
    },
    {
     "name": "stderr",
     "output_type": "stream",
     "text": [
      "/home/juanolon/.local/lib/python3.8/site-packages/sklearn/cluster/_kmeans.py:1572: RuntimeWarning: init_size=18 should be larger than k=384. Setting it to 3*k\n",
      "  cluster_centers = _init_centroids(\n",
      "/home/juanolon/.local/lib/python3.8/site-packages/sklearn/cluster/_kmeans.py:1572: RuntimeWarning: init_size=18 should be larger than k=384. Setting it to 3*k\n",
      "  cluster_centers = _init_centroids(\n",
      "/home/juanolon/.local/lib/python3.8/site-packages/sklearn/cluster/_kmeans.py:1572: RuntimeWarning: init_size=18 should be larger than k=384. Setting it to 3*k\n",
      "  cluster_centers = _init_centroids(\n"
     ]
    },
    {
     "name": "stdout",
     "output_type": "stream",
     "text": [
      "Clustered 384 centroids\n",
      "Calculating histograms for 235 items.\n",
      "Calculating histograms for 59 items.\n",
      "using K: 384\n",
      "fit and transforming..\n",
      "Identifying descriptors..\n",
      "descriptors shape: (234315, 128)\n",
      "Clustering data..\n"
     ]
    },
    {
     "name": "stderr",
     "output_type": "stream",
     "text": [
      "/home/juanolon/.local/lib/python3.8/site-packages/sklearn/cluster/_kmeans.py:1572: RuntimeWarning: init_size=18 should be larger than k=384. Setting it to 3*k\n",
      "  cluster_centers = _init_centroids(\n",
      "/home/juanolon/.local/lib/python3.8/site-packages/sklearn/cluster/_kmeans.py:1572: RuntimeWarning: init_size=18 should be larger than k=384. Setting it to 3*k\n",
      "  cluster_centers = _init_centroids(\n",
      "/home/juanolon/.local/lib/python3.8/site-packages/sklearn/cluster/_kmeans.py:1572: RuntimeWarning: init_size=18 should be larger than k=384. Setting it to 3*k\n",
      "  cluster_centers = _init_centroids(\n"
     ]
    },
    {
     "name": "stdout",
     "output_type": "stream",
     "text": [
      "Clustered 384 centroids\n",
      "Calculating histograms for 235 items.\n",
      "Calculating histograms for 59 items.\n",
      "using K: 384\n",
      "fit and transforming..\n",
      "Identifying descriptors..\n",
      "descriptors shape: (238772, 128)\n",
      "Clustering data..\n"
     ]
    },
    {
     "name": "stderr",
     "output_type": "stream",
     "text": [
      "/home/juanolon/.local/lib/python3.8/site-packages/sklearn/cluster/_kmeans.py:1572: RuntimeWarning: init_size=18 should be larger than k=384. Setting it to 3*k\n",
      "  cluster_centers = _init_centroids(\n",
      "/home/juanolon/.local/lib/python3.8/site-packages/sklearn/cluster/_kmeans.py:1572: RuntimeWarning: init_size=18 should be larger than k=384. Setting it to 3*k\n",
      "  cluster_centers = _init_centroids(\n",
      "/home/juanolon/.local/lib/python3.8/site-packages/sklearn/cluster/_kmeans.py:1572: RuntimeWarning: init_size=18 should be larger than k=384. Setting it to 3*k\n",
      "  cluster_centers = _init_centroids(\n"
     ]
    },
    {
     "name": "stdout",
     "output_type": "stream",
     "text": [
      "Clustered 384 centroids\n",
      "Calculating histograms for 235 items.\n",
      "Calculating histograms for 59 items.\n",
      "using K: 384\n",
      "fit and transforming..\n",
      "Identifying descriptors..\n",
      "descriptors shape: (241575, 128)\n",
      "Clustering data..\n"
     ]
    },
    {
     "name": "stderr",
     "output_type": "stream",
     "text": [
      "/home/juanolon/.local/lib/python3.8/site-packages/sklearn/cluster/_kmeans.py:1572: RuntimeWarning: init_size=18 should be larger than k=384. Setting it to 3*k\n",
      "  cluster_centers = _init_centroids(\n",
      "/home/juanolon/.local/lib/python3.8/site-packages/sklearn/cluster/_kmeans.py:1572: RuntimeWarning: init_size=18 should be larger than k=384. Setting it to 3*k\n",
      "  cluster_centers = _init_centroids(\n",
      "/home/juanolon/.local/lib/python3.8/site-packages/sklearn/cluster/_kmeans.py:1572: RuntimeWarning: init_size=18 should be larger than k=384. Setting it to 3*k\n",
      "  cluster_centers = _init_centroids(\n"
     ]
    },
    {
     "name": "stdout",
     "output_type": "stream",
     "text": [
      "Clustered 384 centroids\n",
      "Calculating histograms for 235 items.\n",
      "Calculating histograms for 59 items.\n",
      "using K: 384\n",
      "fit and transforming..\n",
      "Identifying descriptors..\n",
      "descriptors shape: (244368, 128)\n",
      "Clustering data..\n"
     ]
    },
    {
     "name": "stderr",
     "output_type": "stream",
     "text": [
      "/home/juanolon/.local/lib/python3.8/site-packages/sklearn/cluster/_kmeans.py:1572: RuntimeWarning: init_size=18 should be larger than k=384. Setting it to 3*k\n",
      "  cluster_centers = _init_centroids(\n",
      "/home/juanolon/.local/lib/python3.8/site-packages/sklearn/cluster/_kmeans.py:1572: RuntimeWarning: init_size=18 should be larger than k=384. Setting it to 3*k\n",
      "  cluster_centers = _init_centroids(\n",
      "/home/juanolon/.local/lib/python3.8/site-packages/sklearn/cluster/_kmeans.py:1572: RuntimeWarning: init_size=18 should be larger than k=384. Setting it to 3*k\n",
      "  cluster_centers = _init_centroids(\n"
     ]
    },
    {
     "name": "stdout",
     "output_type": "stream",
     "text": [
      "Clustered 384 centroids\n",
      "Calculating histograms for 236 items.\n",
      "Calculating histograms for 58 items.\n",
      "using K: 384\n",
      "fit and transforming..\n",
      "Identifying descriptors..\n",
      "descriptors shape: (231010, 128)\n",
      "Clustering data..\n"
     ]
    },
    {
     "name": "stderr",
     "output_type": "stream",
     "text": [
      "/home/juanolon/.local/lib/python3.8/site-packages/sklearn/cluster/_kmeans.py:1572: RuntimeWarning: init_size=18 should be larger than k=384. Setting it to 3*k\n",
      "  cluster_centers = _init_centroids(\n",
      "/home/juanolon/.local/lib/python3.8/site-packages/sklearn/cluster/_kmeans.py:1572: RuntimeWarning: init_size=18 should be larger than k=384. Setting it to 3*k\n",
      "  cluster_centers = _init_centroids(\n",
      "/home/juanolon/.local/lib/python3.8/site-packages/sklearn/cluster/_kmeans.py:1572: RuntimeWarning: init_size=18 should be larger than k=384. Setting it to 3*k\n",
      "  cluster_centers = _init_centroids(\n"
     ]
    },
    {
     "name": "stdout",
     "output_type": "stream",
     "text": [
      "Clustered 384 centroids\n",
      "Calculating histograms for 235 items.\n",
      "Calculating histograms for 59 items.\n",
      "using K: 384\n",
      "fit and transforming..\n",
      "Identifying descriptors..\n",
      "descriptors shape: (234315, 128)\n",
      "Clustering data..\n"
     ]
    },
    {
     "name": "stderr",
     "output_type": "stream",
     "text": [
      "/home/juanolon/.local/lib/python3.8/site-packages/sklearn/cluster/_kmeans.py:1572: RuntimeWarning: init_size=18 should be larger than k=384. Setting it to 3*k\n",
      "  cluster_centers = _init_centroids(\n",
      "/home/juanolon/.local/lib/python3.8/site-packages/sklearn/cluster/_kmeans.py:1572: RuntimeWarning: init_size=18 should be larger than k=384. Setting it to 3*k\n",
      "  cluster_centers = _init_centroids(\n",
      "/home/juanolon/.local/lib/python3.8/site-packages/sklearn/cluster/_kmeans.py:1572: RuntimeWarning: init_size=18 should be larger than k=384. Setting it to 3*k\n",
      "  cluster_centers = _init_centroids(\n"
     ]
    },
    {
     "name": "stdout",
     "output_type": "stream",
     "text": [
      "Clustered 384 centroids\n",
      "Calculating histograms for 235 items.\n",
      "Calculating histograms for 59 items.\n",
      "using K: 384\n",
      "fit and transforming..\n",
      "Identifying descriptors..\n",
      "descriptors shape: (238772, 128)\n",
      "Clustering data..\n"
     ]
    },
    {
     "name": "stderr",
     "output_type": "stream",
     "text": [
      "/home/juanolon/.local/lib/python3.8/site-packages/sklearn/cluster/_kmeans.py:1572: RuntimeWarning: init_size=18 should be larger than k=384. Setting it to 3*k\n",
      "  cluster_centers = _init_centroids(\n",
      "/home/juanolon/.local/lib/python3.8/site-packages/sklearn/cluster/_kmeans.py:1572: RuntimeWarning: init_size=18 should be larger than k=384. Setting it to 3*k\n",
      "  cluster_centers = _init_centroids(\n",
      "/home/juanolon/.local/lib/python3.8/site-packages/sklearn/cluster/_kmeans.py:1572: RuntimeWarning: init_size=18 should be larger than k=384. Setting it to 3*k\n",
      "  cluster_centers = _init_centroids(\n"
     ]
    },
    {
     "name": "stdout",
     "output_type": "stream",
     "text": [
      "Clustered 384 centroids\n",
      "Calculating histograms for 235 items.\n",
      "Calculating histograms for 59 items.\n",
      "using K: 384\n",
      "fit and transforming..\n",
      "Identifying descriptors..\n",
      "descriptors shape: (241575, 128)\n",
      "Clustering data..\n"
     ]
    },
    {
     "name": "stderr",
     "output_type": "stream",
     "text": [
      "/home/juanolon/.local/lib/python3.8/site-packages/sklearn/cluster/_kmeans.py:1572: RuntimeWarning: init_size=18 should be larger than k=384. Setting it to 3*k\n",
      "  cluster_centers = _init_centroids(\n",
      "/home/juanolon/.local/lib/python3.8/site-packages/sklearn/cluster/_kmeans.py:1572: RuntimeWarning: init_size=18 should be larger than k=384. Setting it to 3*k\n",
      "  cluster_centers = _init_centroids(\n",
      "/home/juanolon/.local/lib/python3.8/site-packages/sklearn/cluster/_kmeans.py:1572: RuntimeWarning: init_size=18 should be larger than k=384. Setting it to 3*k\n",
      "  cluster_centers = _init_centroids(\n"
     ]
    },
    {
     "name": "stdout",
     "output_type": "stream",
     "text": [
      "Clustered 384 centroids\n",
      "Calculating histograms for 235 items.\n",
      "Calculating histograms for 59 items.\n",
      "using K: 384\n",
      "fit and transforming..\n",
      "Identifying descriptors..\n",
      "descriptors shape: (244368, 128)\n",
      "Clustering data..\n"
     ]
    },
    {
     "name": "stderr",
     "output_type": "stream",
     "text": [
      "/home/juanolon/.local/lib/python3.8/site-packages/sklearn/cluster/_kmeans.py:1572: RuntimeWarning: init_size=18 should be larger than k=384. Setting it to 3*k\n",
      "  cluster_centers = _init_centroids(\n",
      "/home/juanolon/.local/lib/python3.8/site-packages/sklearn/cluster/_kmeans.py:1572: RuntimeWarning: init_size=18 should be larger than k=384. Setting it to 3*k\n",
      "  cluster_centers = _init_centroids(\n",
      "/home/juanolon/.local/lib/python3.8/site-packages/sklearn/cluster/_kmeans.py:1572: RuntimeWarning: init_size=18 should be larger than k=384. Setting it to 3*k\n",
      "  cluster_centers = _init_centroids(\n"
     ]
    },
    {
     "name": "stdout",
     "output_type": "stream",
     "text": [
      "Clustered 384 centroids\n",
      "Calculating histograms for 236 items.\n",
      "Calculating histograms for 58 items.\n",
      "using K: 384\n",
      "fit and transforming..\n",
      "Identifying descriptors..\n",
      "descriptors shape: (231010, 128)\n",
      "Clustering data..\n"
     ]
    },
    {
     "name": "stderr",
     "output_type": "stream",
     "text": [
      "/home/juanolon/.local/lib/python3.8/site-packages/sklearn/cluster/_kmeans.py:1572: RuntimeWarning: init_size=18 should be larger than k=384. Setting it to 3*k\n",
      "  cluster_centers = _init_centroids(\n",
      "/home/juanolon/.local/lib/python3.8/site-packages/sklearn/cluster/_kmeans.py:1572: RuntimeWarning: init_size=18 should be larger than k=384. Setting it to 3*k\n",
      "  cluster_centers = _init_centroids(\n",
      "/home/juanolon/.local/lib/python3.8/site-packages/sklearn/cluster/_kmeans.py:1572: RuntimeWarning: init_size=18 should be larger than k=384. Setting it to 3*k\n",
      "  cluster_centers = _init_centroids(\n"
     ]
    },
    {
     "name": "stdout",
     "output_type": "stream",
     "text": [
      "Clustered 384 centroids\n",
      "Calculating histograms for 235 items.\n",
      "Calculating histograms for 59 items.\n",
      "using K: 384\n",
      "fit and transforming..\n",
      "Identifying descriptors..\n",
      "descriptors shape: (234315, 128)\n",
      "Clustering data..\n"
     ]
    },
    {
     "name": "stderr",
     "output_type": "stream",
     "text": [
      "/home/juanolon/.local/lib/python3.8/site-packages/sklearn/cluster/_kmeans.py:1572: RuntimeWarning: init_size=18 should be larger than k=384. Setting it to 3*k\n",
      "  cluster_centers = _init_centroids(\n",
      "/home/juanolon/.local/lib/python3.8/site-packages/sklearn/cluster/_kmeans.py:1572: RuntimeWarning: init_size=18 should be larger than k=384. Setting it to 3*k\n",
      "  cluster_centers = _init_centroids(\n",
      "/home/juanolon/.local/lib/python3.8/site-packages/sklearn/cluster/_kmeans.py:1572: RuntimeWarning: init_size=18 should be larger than k=384. Setting it to 3*k\n",
      "  cluster_centers = _init_centroids(\n"
     ]
    },
    {
     "name": "stdout",
     "output_type": "stream",
     "text": [
      "Clustered 384 centroids\n",
      "Calculating histograms for 235 items.\n",
      "Calculating histograms for 59 items.\n",
      "using K: 384\n",
      "fit and transforming..\n",
      "Identifying descriptors..\n",
      "descriptors shape: (238772, 128)\n",
      "Clustering data..\n"
     ]
    },
    {
     "name": "stderr",
     "output_type": "stream",
     "text": [
      "/home/juanolon/.local/lib/python3.8/site-packages/sklearn/cluster/_kmeans.py:1572: RuntimeWarning: init_size=18 should be larger than k=384. Setting it to 3*k\n",
      "  cluster_centers = _init_centroids(\n",
      "/home/juanolon/.local/lib/python3.8/site-packages/sklearn/cluster/_kmeans.py:1572: RuntimeWarning: init_size=18 should be larger than k=384. Setting it to 3*k\n",
      "  cluster_centers = _init_centroids(\n",
      "/home/juanolon/.local/lib/python3.8/site-packages/sklearn/cluster/_kmeans.py:1572: RuntimeWarning: init_size=18 should be larger than k=384. Setting it to 3*k\n",
      "  cluster_centers = _init_centroids(\n"
     ]
    },
    {
     "name": "stdout",
     "output_type": "stream",
     "text": [
      "Clustered 384 centroids\n",
      "Calculating histograms for 235 items.\n",
      "Calculating histograms for 59 items.\n",
      "using K: 384\n",
      "fit and transforming..\n",
      "Identifying descriptors..\n",
      "descriptors shape: (241575, 128)\n",
      "Clustering data..\n"
     ]
    },
    {
     "name": "stderr",
     "output_type": "stream",
     "text": [
      "/home/juanolon/.local/lib/python3.8/site-packages/sklearn/cluster/_kmeans.py:1572: RuntimeWarning: init_size=18 should be larger than k=384. Setting it to 3*k\n",
      "  cluster_centers = _init_centroids(\n",
      "/home/juanolon/.local/lib/python3.8/site-packages/sklearn/cluster/_kmeans.py:1572: RuntimeWarning: init_size=18 should be larger than k=384. Setting it to 3*k\n",
      "  cluster_centers = _init_centroids(\n",
      "/home/juanolon/.local/lib/python3.8/site-packages/sklearn/cluster/_kmeans.py:1572: RuntimeWarning: init_size=18 should be larger than k=384. Setting it to 3*k\n",
      "  cluster_centers = _init_centroids(\n"
     ]
    },
    {
     "name": "stdout",
     "output_type": "stream",
     "text": [
      "Clustered 384 centroids\n",
      "Calculating histograms for 235 items.\n",
      "Calculating histograms for 59 items.\n",
      "using K: 384\n",
      "fit and transforming..\n",
      "Identifying descriptors..\n",
      "descriptors shape: (244368, 128)\n",
      "Clustering data..\n"
     ]
    },
    {
     "name": "stderr",
     "output_type": "stream",
     "text": [
      "/home/juanolon/.local/lib/python3.8/site-packages/sklearn/cluster/_kmeans.py:1572: RuntimeWarning: init_size=18 should be larger than k=384. Setting it to 3*k\n",
      "  cluster_centers = _init_centroids(\n",
      "/home/juanolon/.local/lib/python3.8/site-packages/sklearn/cluster/_kmeans.py:1572: RuntimeWarning: init_size=18 should be larger than k=384. Setting it to 3*k\n",
      "  cluster_centers = _init_centroids(\n",
      "/home/juanolon/.local/lib/python3.8/site-packages/sklearn/cluster/_kmeans.py:1572: RuntimeWarning: init_size=18 should be larger than k=384. Setting it to 3*k\n",
      "  cluster_centers = _init_centroids(\n"
     ]
    },
    {
     "name": "stdout",
     "output_type": "stream",
     "text": [
      "Clustered 384 centroids\n",
      "Calculating histograms for 236 items.\n",
      "Calculating histograms for 58 items.\n",
      "using K: 384\n",
      "using K: 384\n",
      "fit and transforming..\n",
      "Identifying descriptors..\n",
      "descriptors shape: (297510, 128)\n",
      "Clustering data..\n"
     ]
    },
    {
     "name": "stderr",
     "output_type": "stream",
     "text": [
      "/home/juanolon/.local/lib/python3.8/site-packages/sklearn/cluster/_kmeans.py:1572: RuntimeWarning: init_size=18 should be larger than k=384. Setting it to 3*k\n",
      "  cluster_centers = _init_centroids(\n",
      "/home/juanolon/.local/lib/python3.8/site-packages/sklearn/cluster/_kmeans.py:1572: RuntimeWarning: init_size=18 should be larger than k=384. Setting it to 3*k\n",
      "  cluster_centers = _init_centroids(\n",
      "/home/juanolon/.local/lib/python3.8/site-packages/sklearn/cluster/_kmeans.py:1572: RuntimeWarning: init_size=18 should be larger than k=384. Setting it to 3*k\n",
      "  cluster_centers = _init_centroids(\n"
     ]
    },
    {
     "name": "stdout",
     "output_type": "stream",
     "text": [
      "Clustered 384 centroids\n",
      "Calculating histograms for 294 items.\n"
     ]
    },
    {
     "data": {
      "text/plain": [
       "GridSearchCV(cv=None, error_score=nan,\n",
       "             estimator=Pipeline(memory=None,\n",
       "                                steps=[('sift', SiftTransformer(cluster_k=384)),\n",
       "                                       ('std',\n",
       "                                        StandardScaler(copy=True,\n",
       "                                                       with_mean=True,\n",
       "                                                       with_std=True)),\n",
       "                                       ('svm',\n",
       "                                        LinearSVC(C=1.0, class_weight=None,\n",
       "                                                  dual=True, fit_intercept=True,\n",
       "                                                  intercept_scaling=1,\n",
       "                                                  loss='squared_hinge',\n",
       "                                                  max_iter=1000,\n",
       "                                                  multi_class='ovr',\n",
       "                                                  penalty='l2',\n",
       "                                                  random_state=None, tol=0.0001,\n",
       "                                                  verbose=0))],\n",
       "                                verbose=False),\n",
       "             iid='deprecated', n_jobs=None,\n",
       "             param_grid={'svm__C': [1, 10, 100, 1000]}, pre_dispatch='2*n_jobs',\n",
       "             refit=True, return_train_score=False, scoring=None, verbose=0)"
      ]
     },
     "execution_count": 54,
     "metadata": {},
     "output_type": "execute_result"
    }
   ],
   "source": [
    "from sklearn.model_selection import GridSearchCV\n",
    "\n",
    "classes = ['cactus', 'dice', 'raccoon', 'spaghetti', 'sushi']\n",
    "k = 128 * 3\n",
    "\n",
    "images = utils.load_images(classes)\n",
    "X, Y = utils.separate_data(images)\n",
    "\n",
    "X_train, X_test, y_train, y_test = train_test_split(X, Y, test_size=0.4, random_state=0)\n",
    "\n",
    "pipeline = Pipeline([\n",
    "    ('sift', SiftTransformer()),\n",
    "    ('std', StandardScaler()),\n",
    "    ('svm',LinearSVC())\n",
    "])\n",
    "\n",
    "parameters = {'svm__C':[1, 10, 100, 1000], 'sift_k': [100, 400, 50]}\n",
    "grid = GridSearchCV(pipeline, parameters)\n",
    "grid.fit(X_train, y_train)\n"
   ]
  },
  {
   "cell_type": "code",
   "execution_count": null,
   "metadata": {},
   "outputs": [],
   "source": [
    "def plot_grid_search(cv_results, grid_param_1, grid_param_2, name_param_1, name_param_2):\n",
    "    # Get Test Scores Mean and std for each grid search\n",
    "    scores_mean = cv_results['mean_test_score']\n",
    "    scores_mean = np.array(scores_mean).reshape(len(grid_param_2),len(grid_param_1))\n",
    "\n",
    "    scores_sd = cv_results['std_test_score']\n",
    "    scores_sd = np.array(scores_sd).reshape(len(grid_param_2),len(grid_param_1))\n",
    "\n",
    "    # Plot Grid search scores\n",
    "    _, ax = plt.subplots(1,1)\n",
    "\n",
    "    # Param1 is the X-axis, Param 2 is represented as a different curve (color line)\n",
    "    for idx, val in enumerate(grid_param_2):\n",
    "        ax.plot(grid_param_1, scores_mean[idx,:], '-o', label= name_param_2 + ': ' + str(val))\n",
    "\n",
    "    ax.set_title(\"Grid Search Scores\", fontsize=20, fontweight='bold')\n",
    "    ax.set_xlabel(name_param_1, fontsize=16)\n",
    "    ax.set_ylabel('CV Average Score', fontsize=16)\n",
    "    ax.legend(loc=\"best\", fontsize=15)\n",
    "    ax.grid('on')\n",
    "\n",
    "# Calling Method \n",
    "plot_grid_search(grid.cv_results_, parameters['svm__C'], max_features, 'N Estimators', 'Max Features')\n"
   ]
  },
  {
   "cell_type": "code",
   "execution_count": 56,
   "metadata": {},
   "outputs": [
    {
     "data": {
      "text/plain": [
       "{'mean_fit_time': array([532.51456909, 490.39444189, 429.10783982, 495.8562983 ]),\n",
       " 'std_fit_time': array([109.71378459, 115.00148765,  86.23317645, 162.72420607]),\n",
       " 'mean_score_time': array([63.71216307, 52.99047041, 51.83683667, 60.75148864]),\n",
       " 'std_score_time': array([12.04804738,  6.31344059,  5.53529896, 12.62813601]),\n",
       " 'param_svm__C': masked_array(data=[1, 10, 100, 1000],\n",
       "              mask=[False, False, False, False],\n",
       "        fill_value='?',\n",
       "             dtype=object),\n",
       " 'params': [{'svm__C': 1}, {'svm__C': 10}, {'svm__C': 100}, {'svm__C': 1000}],\n",
       " 'split0_test_score': array([0.42372881, 0.42372881, 0.42372881, 0.42372881]),\n",
       " 'split1_test_score': array([0.66101695, 0.66101695, 0.66101695, 0.66101695]),\n",
       " 'split2_test_score': array([0.61016949, 0.61016949, 0.61016949, 0.61016949]),\n",
       " 'split3_test_score': array([0.57627119, 0.57627119, 0.57627119, 0.57627119]),\n",
       " 'split4_test_score': array([0.5, 0.5, 0.5, 0.5]),\n",
       " 'mean_test_score': array([0.55423729, 0.55423729, 0.55423729, 0.55423729]),\n",
       " 'std_test_score': array([0.08365398, 0.08365398, 0.08365398, 0.08365398]),\n",
       " 'rank_test_score': array([1, 1, 1, 1], dtype=int32)}"
      ]
     },
     "execution_count": 56,
     "metadata": {},
     "output_type": "execute_result"
    }
   ],
   "source": [
    "grid.cv_results_"
   ]
  }
 ],
 "metadata": {
  "kernelspec": {
   "display_name": "Python 3",
   "language": "python",
   "name": "python3"
  },
  "language_info": {
   "codemirror_mode": {
    "name": "ipython",
    "version": 3
   },
   "file_extension": ".py",
   "mimetype": "text/x-python",
   "name": "python",
   "nbconvert_exporter": "python",
   "pygments_lexer": "ipython3",
   "version": "3.8.7"
  }
 },
 "nbformat": 4,
 "nbformat_minor": 4
}
